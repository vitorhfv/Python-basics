# -*- coding: utf-8 -*-
"""
Created on Tue Oct 31 00:21:38 2023

@author: vitorhfv
"""
# Uma nota: normalmente costumo trabalhar com mais de um arquivo python por projeto,
# de modo a organizar de forma mais clara. Como as questões postas nese desafio são simples,
# este será um arquivo único, de modo 

# Primeiramente coloquei somente as colunas de dados em um arquivo novo
# no Excel e salvei como CSV. A partir de então, carreguei-o no Python.

import re
import pandas as pd
import matplotlib.pyplot as plt
from matplotlib.ticker import FuncFormatter
import matplotlib.ticker as mticker

df = pd.read_csv("desafio_original.csv") 
vendedores = pd.read_csv('vendedores.csv')

df # Leitura do arquivo.

df = df.drop(df.index[-1]) 

# Percebe-se que a última linha de dados é uma repetição dos nomes das colunas,
# com a função drop ela será apagada.

df.describe() # Função describe nos dá uma visão geral  em relação às
# estatísticas do dataframe.

df # O primeiro passo é padronizarmos as colunas, dado que visivelmente
# os dados dentro delas possuem diversas nomenclaturas, ainda que se refiram
# às mesmas classificações, seja nome do produto ou unidade da Bemol.

# Para tal, verificaremos quantas classificações existem no dataframe
# para cada variável categórica (nomes etc). Façamos de um por um, corrigindo com 
# a ajuda do regex.


df[["Unidade"]].value_counts()

df['Unidade'] = df['Unidade'].replace({'Ammazonas Shoping': 'Amazonas Shopping'}, regex=True)

df['Unidade'] = df['Unidade'].str.title() # A a cada palavra a primeira letra fica maiúscula.


print(list(df.columns))

df[["Produto"]].value_counts()


df['Produto'] = df['Produto'].replace(r'[%_]', ' ', regex=True) # Troca caracteres especiais por espaço simples.

df['Produto'] = df['Produto'].str.title() # A a cada palavra a primeira letra fica maiúscula.

df['Produto'] = df['Produto'].replace({'Ar Condicionado': 'Ar-condicionado'}, regex=True) 
# A palavra leva hífen e prezamos pelo uso da norma-padrão.

df['Produto'] = df['Produto'].replace({'Fone D Ouvido': 'Fone De Ouvido'}, regex=True)

df['Produto'] = df['Produto'].replace({'Samsungsamsung': 'Samsung'}, regex=True)

df['Produto'] = df['Produto'].replace({'Xbox Seriessss': 'Xbox Series S'}, regex=True)


df[["Produto"]].value_counts()

df.dtypes # O Python leu o arquivo como objeto. Usemos a função lambda
# para transformar colunas em string, quando necessário.

df['Valor unitário'] = df['Valor unitário'].apply(lambda x: re.sub(r'^R\$ |[.,]', '', x))
# Primeiro retiramos tudo aquilo que não é número da coluna de Valor.

df['Valor unitário'] = pd.to_numeric(df['Valor unitário'])
df['Valor unitário'] = df['Valor unitário'] / 100

# Acima, transformamos a coluna em número e dividimos por cem,
# já que retiramos anteriormente todos os pontos da coluna para que pudéssemos
# transformá-la em coluna de valor, somente de números.

df['Qtd'] = pd.to_numeric(df['Qtd'])

df['valor_total'] = df['Valor unitário'] * df['Qtd'] # criamos nova coluna.

df[' Data_compra'] = pd.to_datetime(df[' Data_compra'], format='%d/%m/%Y') 
# Transformamos coluna em valor de data.

# Pronto! A preparação de dados já terminou. Agora estamos preparados
# para responder às perguntas.

################################################################################

# dividimos o dataframe por ano:

df_2021 = df[df[' Data_compra'].dt.year == 2021]
df_2022 = df[df[' Data_compra'].dt.year == 2022]

# Abaixo, novo DF com a quantidade de produtos vendidos (total)
# 2a questão: Qual o produto mais vendido?

novo_df = df.groupby('Produto')['Qtd'].sum().reset_index()

produtos_mais_vendidos = novo_df.sort_values(by='Qtd', ascending=False)

produtos_mais_vendidos.to_csv('2q_produtos_mais_vend.csv', index=False)

# Vamos responder sobre impostos agora.

# Primeiramente, calculemos a soma da receita para a empresa:
# Abaixo, o valor, monetário, referente ao valor total (unidades vendidas vezes o preço)

soma_total = df['valor_total'].sum()

# Como a receita é maior do que 2 milhões, a aliquota é de 17%, tem-se, portanto:
    
imposto = {
    'aliquota': ['0.05', '0.12', '0.17'],
    'Faixas de Receita': ['Até R$ 2.100.000,00',
                          'De R$ 2.100.000,01 A R$ 2.400.000,00',
                          'A partir de R$ 2.400.000,01']
    }

imposto = pd.DataFrame(imposto)

soma_impost = soma_total * float(imposto.iloc[2]['aliquota'])

soma_qtd = novo_df['Qtd'].sum()

imposto_por_unidade = soma_impost / soma_qtd

print(f'R$ {soma_impost:.2f}') # Qual o valor total que a empresa paga de impostos?
## R$ 2.304.716,86

print(f'R$ {imposto_por_unidade:.2f}') # Qual o valor de imposto que a empresa paga, em média, por unidade vendida?
# R$ 245,10

###################

# A base de dados vai de janeiro de 2021 a fevereiro de 2022. E se quisermos saber
# o quanto de imposto a empresa paga a cada ano?

soma_total_2021 = df_2021['valor_total'].sum() # 11 milhões, ou seja, aliquota máxima:
soma_impost_21 = soma_total_2021 * float(imposto.iloc[2]['aliquota'])
soma_qtd_21 = df_2021['Qtd'].sum()
imposto_por_unidade_21 = soma_impost_21 / soma_qtd_21

soma_total_2022 = df_2022['valor_total'].sum()
soma_impost_22 = soma_total_2022 * float(imposto.iloc[0]['aliquota']) # 0,05 dado que é menor que 2 milhões.
soma_qtd_22 = df_2022['Qtd'].sum()
imposto_por_unidade_22 = soma_impost_22 / soma_qtd_22

# A forma de cálculo acima deduz que os tributos são centralizados pela matriz. 

# E se cada unidade pagar por seus impostos, como fica? Esse sistema é o de 
# descentralização tributária. Vamos testar um pouco. Como para o ano de 2022 os
# dados estão incompletos, façamos somente para 2021, visto que se deduz que impostos
# são pagos anualmente.

imposto_descent_unid21 = df_2021.groupby('Unidade')['valor_total'].sum().reset_index()

aliquotas = [0.05, 0.05, 0.05, 0.17, 0.05, 0.05]

# Inserindo a nova coluna no DataFrame e convertendo para float
imposto_descent_unid21['aliquota'] = aliquotas
imposto_descent_unid21['aliquota'] = imposto_descent_unid21['aliquota'].astype(float)
imposto_descent_unid21['impostos'] = imposto_descent_unid21['valor_total'] * imposto_descent_unid21['aliquota']
imposto_descent_unid21 = imposto_descent_unid21.sort_values(by='valor_total', ascending=False)


imposto_descent_unid21.to_csv('q1_imposto_desc_21.csv', index=False)

# Nesse sentido, a unidade de Eduardo Gomes é quem mais paga impostos, 
# cerca de R$ 450.000 ao ano. 

################################################

# 3 Qual a proporção de cada produto no faturamento da empresa?
novo_df_qtd = df.groupby('Produto')['valor_total'].sum().reset_index()

novo_df_qtd['proporcao'] = novo_df_qtd['valor_total'] / novo_df_qtd['valor_total'].sum()

novo_df_qtd = novo_df_qtd.sort_values(by='proporcao', ascending=False)

novo_df_qtd = novo_df_qtd.iloc[:5] # Preferiu-se comente 5 linhas, visto que
# para o gráfico não precisaremos de todas as linhas.

novo_df_qtd.to_csv('3q_proporcao_produt_faturam.csv', index=False)

### Questão 4 Lucro de cada loja após os impostos:

# Não é possível calcularmos o lucro de cada loja, haja visto que os dados não fornecem
# informações a respeito das despesas da empresa. Assim, calcula-se a receita
# líquida a partir do faturamento deduzido de impostos. Como 2021 é o único ano
# completo da base de dados, usaremos somente ele:

imposto_descent_unid21['receita_liquida'] = imposto_descent_unid21['valor_total'] - imposto_descent_unid21['impostos']
imposto_descent_unid21

imposto_descent_unid21.to_csv('q4_imposto_p_unid21.csv', index=False)


# 5: Qual o período que mais houve compras?

## Agrupamos por data de compra baseado na soma do valor total para cada unidade.
## Lembra-se que mantemos a coluna 'Unidade' no novo dataframe: 

soma_por_data_unidade = df.groupby([' Data_compra', 'Unidade'])['valor_total'].sum().reset_index()

idx_max_dia = soma_por_data_unidade.groupby('Unidade')['valor_total'].idxmax()

# Criamos o df final usando os índices encontrados, do maior ao menor:
unid_dia_mais_vendas = soma_por_data_unidade.loc[idx_max_dia]
unid_dia_mais_vendas = unid_dia_mais_vendas.sort_values(by='valor_total', ascending=False)

unid_dia_mais_vendas.to_csv('5q_dia_mais_vendas_valor.csv', index = False)

# Mês mais compras

# Criamos uma nova coluna 'Mes' com o mês correspondente:
df['Mes'] = df[' Data_compra'].dt.to_period('M')

# Agrupamos por 'Mes', 'Unidade' e calculamos a soma dos valores na coluna 'valor_total':
soma_por_mes_unidade = df.groupby(['Mes', 'Unidade'])['valor_total'].sum().reset_index()

# Usamos o  idxmax para encontrar o índice da primeira ocorrência do valor máximo em cada grupo:

idx_max_mes = soma_por_mes_unidade.groupby('Unidade')['valor_total'].idxmax()

# Criamos o DataFrame final usando os índices máximos encontrados com o .loc:
mes_unidade_mais_vendas = soma_por_mes_unidade.loc[idx_max_mes]
mes_unidade_mais_vendas = mes_unidade_mais_vendas.sort_values(by='valor_total', ascending=False)

mes_unidade_mais_vendas.to_csv('5a_mes_mais_vendas_valor.csv', index=False)
##############
# Extra: Qual a unidade da Bemol que mais vendeu no intervalo da base de dados?

vendas_por_unidade = df.groupby('Unidade')['valor_total'].sum()

# Encontrar a unidade que vendeu mais (para o dataframe geral)
unidade_mais_vendida = vendas_por_unidade.idxmax()

# Encontrar a unidade que vendeu mais em 2021:
vendas_por_unidade_2021 = df_2021.groupby('Unidade')['valor_total'].sum()
unidade_mais_vendida_2021 = vendas_por_unidade_2021.idxmax()

# A unidade que mais vendeu em 2022:
vendas_por_unidade_2022 = df_2022.groupby('Unidade')['valor_total'].sum()
unidade_mais_vendida_2022 = vendas_por_unidade_2022.idxmax()


vendas_por_unidade = vendas_por_unidade.sort_values(ascending=False)

vendas_por_unidade.to_csv('top_unidades_receita.csv', index=False)
######################################
# Questão extra: Quem é o melhor vendedor da empresa?

# 

cod_melhores_vend = vendedores.set_index('Cod_vendedor')['Vendedor']


df['Cod_vendedor'] = df['Cod_vendedor'].astype(int) #  padroniza-se o tipo de entrada
cod_melhores_vend.index = cod_melhores_vend.index.astype(int)

df = pd.merge(df, cod_melhores_vend.reset_index(),
                           left_on='Cod_vendedor',
                           right_on='Cod_vendedor',
                           how='left')

melhores_vendedores = df.groupby('Vendedor')['valor_total'].sum()

# o DF melhores_vendedores é série, transformemos para dataframe:

df_melhores_vendedores = pd.DataFrame({'Vendedor': melhores_vendedores.index, 'Total_Vendas': melhores_vendedores.values})

df_melhores_vendedores = df_melhores_vendedores.sort_values('Total_Vendas', ascending=False).reset_index(drop=True)

#################
# Quais os melhores vendedores por unidade?

# Agrupando por 'Unidade' e 'Vendedor' e calculando as vendas totais
melhores_vendedores_unidade = df.groupby(['Unidade', 'Vendedor'])['valor_total'].sum().reset_index()

# Encontrando os melhores vendedores por unidade
melhores_vendedores_por_unidade = melhores_vendedores_unidade.sort_values(by=['Unidade', 'valor_total'], ascending=[True, False])


###########
# Gráfico 1: Qual o faturamento de cada vendedor por unidade?

plt.style.use('seaborn-darkgrid')
plt.figure(figsize=(12, 6), dpi=300)  # Ajuste do tamanho e qualidade

# Formatando o eixo y como valores monetários com função:
# Prefere-se uma função visto que usaremos ela novamente em outros gráficos:
    
def formatar_valor_monetario(valor, _):
    return "R${:,.2f}".format(valor)


# Iteração na unidade de modo a plotar barras com nomes dos vendedores:
for unidade in melhores_vendedores_por_unidade['Unidade'].unique():
    dados_unidade = melhores_vendedores_por_unidade[melhores_vendedores_por_unidade['Unidade'] == unidade]
    plt.bar(dados_unidade['Vendedor'], dados_unidade['valor_total'], label=unidade)

# Adicionamos detalhes ao gráfico:
plt.xlabel('Vendedor')
plt.title('Total de faturamento (em R$) por vendedor em cada unidade de Jan/21 a Fev/22')
plt.legend()
plt.xticks(rotation=90, ha='right')  # Rotacionando rótulos do eixo x para melhor legibilidade
plt.gca().get_yaxis().set_major_formatter(FuncFormatter(formatar_valor_monetario))

# Exibindo o gráfico
plt.tight_layout()
plt.show()

##############

# Gráfico 2: Quais os produtos mais vendidos no total?

plt.style.use('seaborn-darkgrid')

top_produtos = produtos_mais_vendidos.loc[:5, :]

plt.figure(figsize=(10, 6), dpi=300)

plt.barh(top_produtos['Produto'][::-1], top_produtos['Qtd'][::-1], color='skyblue') # Em forma crescente, cor azul
plt.xlabel('Quantidade Vendida')
plt.title('Produtos Mais Vendidos - Jan/21 a Fev/22')

## Gráfico 3: Qual a unidade com maior faturamento?
    
plt.style.use('seaborn-darkgrid')
    
plt.figure(figsize=(13, 6))
vendas_por_unidade.plot(kind='bar', color=['blue', 'green', 'red', 'purple', 'orange'])  

# Adicionar rótulos e título ao gráfico
plt.xlabel('Unidade')
plt.title('Faturamento por Unidade da Bemol - Jan/21 a Fev/22')

# Rotacionar os nomes do eixo x
plt.xticks(rotation=0)

# Mudamos a notação do eixo y para inteiro com pontos (formato monetário) com função:

plt.gca().get_yaxis().set_major_formatter(FuncFormatter(formatar_valor_monetario))

plt.show()

################################################################


# Gráfico 4: 
# Qual a proporção dos produtos mais vendidos sobre o faturamento?

plt.style.use('seaborn-darkgrid')

plt.figure(figsize=(14, 6), dpi=300)  # Aumentar o tamanho e a resolução

bottom = 0  # Começar do ponto 0.0

# Usemos as quatro primeiras linhas e em proporção:
for i in range(4):
    label = novo_df_qtd['Produto'].iloc[i]
    plt.bar(label, novo_df_qtd['proporcao'].iloc[i], bottom=bottom, label=label, alpha=0.7)
    bottom += novo_df_qtd['proporcao'].iloc[i]

plt.xlabel('Produtos')
plt.ylabel('Proporção (%)')
plt.title('Top 4 - Proporção de produtos sobre o faturamento de Jan/21 a Fev/22')
plt.legend()
plt.show()

###### Gráfico 5: Qual o faturamento da empresa ao longo do tempo (2021)?

# Convertendo a coluna 'Data_compra' para o tipo datetime no df de 2021
df_2021[' Data_compra'] = pd.to_datetime(df[' Data_compra'])

# Extraindo o mês da data de compra
df_2021['Mes'] = df_2021[' Data_compra'].dt.month

# Agrupando por mês e calculando a soma dos valores totais
soma_valores_por_mes = df_2021.groupby('Mes')['valor_total'].sum().reset_index()


plt.figure(figsize=(14, 6), dpi = 300)
bars = plt.bar(soma_valores_por_mes['Mes'], soma_valores_por_mes['valor_total'], color='skyblue', label='Total')

# Calculando o ponto máximo de cada barra:
max_points = [bar.get_height() for bar in bars]

# Adicionando a linha de  sobre os pontos máximos em azul escuro:
plt.plot(soma_valores_por_mes['Mes'], max_points, color='darkblue', linestyle='--', marker='o', markersize=8, label='Máximo')

# Ajustando o formato do eixo y:
plt.gca().get_yaxis().set_major_formatter(FuncFormatter(formatar_valor_monetario))

plt.title('Faturamento da empresa em 2021')
plt.xlabel('Mês')
plt.xticks(range(1, 13), ['Jan', 'Fev', 'Mar', 'Abr', 'Mai', 'Jun', 'Jul', 'Ago', 'Set', 'Out', 'Nov', 'Dez'])
plt.legend()
plt.show()



# Gráfico 5: Qual a unidade de maior faturamento?
fig, ax = plt.subplots(figsize=(14, 6), dpi=300)
vendas_por_unidade.plot(kind='bar', color='skyblue', ax=ax)

# Formatando o eixo y como valores monetários com função:
def formatar_valor_monetario(valor, _):
    return "R${:,.2f}".format(valor)

ax.yaxis.set_major_formatter(FuncFormatter(formatar_valor_monetario))

plt.xlabel('Unidade')
plt.title('Faturamento por unidade - Jan/21 a Fev/22')

plt.xticks(rotation=0)
plt.show()

#
